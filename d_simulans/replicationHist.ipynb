{
 "cells": [
  {
   "cell_type": "code",
   "execution_count": 17,
   "id": "4cbd6645-4e5d-4dd9-b61a-dbbb5e3a65fc",
   "metadata": {},
   "outputs": [],
   "source": [
    "import sys\n",
    "import glob\n",
    "import numpy as np\n",
    "import collections\n",
    "import matplotlib.pyplot as plt"
   ]
  },
  {
   "cell_type": "code",
   "execution_count": 18,
   "id": "156b4554-6b2f-4716-9732-0e9b6553cf9c",
   "metadata": {},
   "outputs": [],
   "source": [
    "def makeReplicationHistForRunMode(runMode, percentileThresh, tsOrFet, numReps=11, winSize=10000):\n",
    "\n",
    "    assert tsOrFet.lower() in [\"ts\",\"fet\"]\n",
    "\n",
    "    allScoreCompFileNames = glob.glob(f\"/pine/scr/d/s/dschride/data/timeSeriesSweeps/compareToFETOut/rep*ScoreComp*_{runMode}.txt\")\n",
    "\n",
    "    scoreIndex = 2 if tsOrFet == \"ts\" else 3\n",
    "\n",
    "    scores = []\n",
    "    for cfn in allScoreCompFileNames:\n",
    "        #sys.stderr.write(f'reading {cfn}\\n')\n",
    "        with open(cfn, 'rt') as cf:\n",
    "            for line in cf:\n",
    "                scores.append(float(line.strip().split()[scoreIndex]))\n",
    "    threshold = np.percentile(scores, percentileThresh*100)\n",
    "    sys.stderr.write(f'chosen threshold for {runMode}: ({percentileThresh*100}th percentile): {threshold}\\n')\n",
    "\n",
    "    repCounts = {}\n",
    "    for rep in range(1, numReps):\n",
    "        sys.stderr.write(f'processing rep {rep}\\n')\n",
    "        fn = f\"/pine/scr/d/s/dschride/data/timeSeriesSweeps/replicationOfTopHits{'' if tsOrFet == 'ts' else 'FET'}/rep{rep}_{runMode}_repComp.txt\"\n",
    "        with open(fn, 'rt') as f:\n",
    "            for line in f:\n",
    "                line = line.strip()\n",
    "                splitLine = line.split(\"\\t\")\n",
    "                chrom, pos, tsScore, fetScore, freqVel, otherTsScoreStr, otherFetScoreStr, otherFreqVelsStr = splitLine\n",
    "                pos = int(pos)\n",
    "                pos = pos-(pos % winSize)\n",
    "\n",
    "                if tsOrFet == \"ts\":\n",
    "                    otherScores = [float(x) for x in otherTsScoreStr.split(\"|\")]\n",
    "                else:\n",
    "                    otherScores = [float(x) for x in otherFetScoreStr.split(\"|\")]\n",
    "\n",
    "                replicationVector = [1 if x > threshold else 0 for x in otherScores]\n",
    "                if (chrom, pos) in repCounts:\n",
    "                    repCounts[(chrom, pos)] = max(sum(replicationVector), repCounts[(chrom, pos)])\n",
    "                else:\n",
    "                    repCounts[(chrom, pos)] = sum(replicationVector)\n",
    "                    \n",
    "    counts = collections.Counter(repCounts.values())\n",
    "    outx, outy = [], []\n",
    "    for i in range(0, numReps):\n",
    "        print(tsOrFet, runMode, i, counts[i]/sum(counts.values()), counts[i])\n",
    "        outy.append(counts[i]/sum(counts.values()))\n",
    "        outx.append(i)\n",
    "    return outx, outy"
   ]
  },
  {
   "cell_type": "code",
   "execution_count": 25,
   "id": "6b449579-1db4-4a9a-bf12-8eb3856faf5d",
   "metadata": {},
   "outputs": [],
   "source": [
    "def plotBars(tsX, tsY, fetX, fetY, title):\n",
    "    \"\"\"code modified from\n",
    "    https://matplotlib.org/stable/gallery/lines_bars_and_markers/barchart.html\"\"\"\n",
    "    \n",
    "    assert tsX == fetX\n",
    "    \n",
    "    width = 0.35\n",
    "    fig, ax = plt.subplots()\n",
    "    rects1 = ax.bar(np.array(tsX) - width/2, tsY, width, label='TimeSweeper')\n",
    "    rects2 = ax.bar(np.array(fetX) + width/2, fetY, width, label='FET')\n",
    "\n",
    "    # Add some text for labels, title and custom x-axis tick labels, etc.\n",
    "    ax.set_ylabel('Fraction of hits')\n",
    "    ax.set_xlabel('Number of times a hit was replicated')\n",
    "    ax.set_title(title)\n",
    "    ax.legend()\n",
    "\n",
    "    fig.tight_layout()\n",
    "\n",
    "    plt.show()"
   ]
  },
  {
   "cell_type": "code",
   "execution_count": 26,
   "id": "ad35cc4f-3a85-48f0-a776-c4da5de4a6e9",
   "metadata": {},
   "outputs": [
    {
     "name": "stderr",
     "output_type": "stream",
     "text": [
      "chosen threshold for unif_vel_0_thresh: (99.0th percentile): 0.962\n",
      "processing rep 1\n",
      "processing rep 2\n",
      "processing rep 3\n",
      "processing rep 4\n",
      "processing rep 5\n",
      "processing rep 6\n",
      "processing rep 7\n",
      "processing rep 8\n",
      "processing rep 9\n",
      "processing rep 10\n"
     ]
    },
    {
     "name": "stdout",
     "output_type": "stream",
     "text": [
      "ts unif_vel_0_thresh 0 0.5568400770712909 289\n",
      "ts unif_vel_0_thresh 1 0.30828516377649323 160\n",
      "ts unif_vel_0_thresh 2 0.09826589595375723 51\n",
      "ts unif_vel_0_thresh 3 0.02697495183044316 14\n",
      "ts unif_vel_0_thresh 4 0.007707129094412331 4\n",
      "ts unif_vel_0_thresh 5 0.0 0\n",
      "ts unif_vel_0_thresh 6 0.0019267822736030828 1\n",
      "ts unif_vel_0_thresh 7 0.0 0\n",
      "ts unif_vel_0_thresh 8 0.0 0\n",
      "ts unif_vel_0_thresh 9 0.0 0\n",
      "ts unif_vel_0_thresh 10 0.0 0\n",
      "[0, 1, 2, 3, 4, 5, 6, 7, 8, 9, 10] [0.5568400770712909, 0.30828516377649323, 0.09826589595375723, 0.02697495183044316, 0.007707129094412331, 0.0, 0.0019267822736030828, 0.0, 0.0, 0.0, 0.0]\n"
     ]
    },
    {
     "name": "stderr",
     "output_type": "stream",
     "text": [
      "chosen threshold for unif_vel_0_thresh: (99.0th percentile): 11.998240505399968\n",
      "processing rep 1\n",
      "processing rep 2\n",
      "processing rep 3\n",
      "processing rep 4\n",
      "processing rep 5\n",
      "processing rep 6\n",
      "processing rep 7\n",
      "processing rep 8\n",
      "processing rep 9\n",
      "processing rep 10\n"
     ]
    },
    {
     "name": "stdout",
     "output_type": "stream",
     "text": [
      "fet unif_vel_0_thresh 0 0.6889848812095032 319\n",
      "fet unif_vel_0_thresh 1 0.2159827213822894 100\n",
      "fet unif_vel_0_thresh 2 0.07127429805615551 33\n",
      "fet unif_vel_0_thresh 3 0.02159827213822894 10\n",
      "fet unif_vel_0_thresh 4 0.0021598272138228943 1\n",
      "fet unif_vel_0_thresh 5 0.0 0\n",
      "fet unif_vel_0_thresh 6 0.0 0\n",
      "fet unif_vel_0_thresh 7 0.0 0\n",
      "fet unif_vel_0_thresh 8 0.0 0\n",
      "fet unif_vel_0_thresh 9 0.0 0\n",
      "fet unif_vel_0_thresh 10 0.0 0\n"
     ]
    },
    {
     "data": {
      "image/png": "[encoded data removed]",
      "text/plain": [
       "<Figure size 432x288 with 1 Axes>"
      ]
     },
     "metadata": {
      "needs_background": "light"
     },
     "output_type": "display_data"
    },
    {
     "name": "stdout",
     "output_type": "stream",
     "text": [
      "[0, 1, 2, 3, 4, 5, 6, 7, 8, 9, 10] [0.6889848812095032, 0.2159827213822894, 0.07127429805615551, 0.02159827213822894, 0.0021598272138228943, 0.0, 0.0, 0.0, 0.0, 0.0, 0.0]\n"
     ]
    }
   ],
   "source": [
    "runMode = \"unif_vel_0_thresh\"\n",
    "percentileThresh = 0.99\n",
    "tsX, tsY = makeReplicationHistForRunMode(runMode, percentileThresh, \"ts\", winSize=10000)\n",
    "print(tsX, tsY)\n",
    "fetX, fetY = makeReplicationHistForRunMode(runMode, percentileThresh, \"fet\", winSize=10000)\n",
    "plotBars(tsX, tsY, fetX, fetY, \"replication comparison: 10 kb windows\")\n",
    "print(fetX, fetY)"
   ]
  },
  {
   "cell_type": "code",
   "execution_count": 27,
   "id": "b408ea15-33ae-49f5-8bf7-e809da200fa0",
   "metadata": {},
   "outputs": [
    {
     "name": "stderr",
     "output_type": "stream",
     "text": [
      "chosen threshold for unif_vel_0_thresh: (99.0th percentile): 0.962\n",
      "processing rep 1\n",
      "processing rep 2\n",
      "processing rep 3\n",
      "processing rep 4\n",
      "processing rep 5\n",
      "processing rep 6\n",
      "processing rep 7\n",
      "processing rep 8\n",
      "processing rep 9\n",
      "processing rep 10\n"
     ]
    },
    {
     "name": "stdout",
     "output_type": "stream",
     "text": [
      "ts unif_vel_0_thresh 0 0.46017699115044247 156\n",
      "ts unif_vel_0_thresh 1 0.35398230088495575 120\n",
      "ts unif_vel_0_thresh 2 0.13274336283185842 45\n",
      "ts unif_vel_0_thresh 3 0.038348082595870206 13\n",
      "ts unif_vel_0_thresh 4 0.011799410029498525 4\n",
      "ts unif_vel_0_thresh 5 0.0 0\n",
      "ts unif_vel_0_thresh 6 0.0029498525073746312 1\n",
      "ts unif_vel_0_thresh 7 0.0 0\n",
      "ts unif_vel_0_thresh 8 0.0 0\n",
      "ts unif_vel_0_thresh 9 0.0 0\n",
      "ts unif_vel_0_thresh 10 0.0 0\n"
     ]
    },
    {
     "name": "stderr",
     "output_type": "stream",
     "text": [
      "chosen threshold for unif_vel_0_thresh: (99.0th percentile): 11.998240505399968\n",
      "processing rep 1\n",
      "processing rep 2\n",
      "processing rep 3\n",
      "processing rep 4\n",
      "processing rep 5\n",
      "processing rep 6\n",
      "processing rep 7\n",
      "processing rep 8\n",
      "processing rep 9\n",
      "processing rep 10\n"
     ]
    },
    {
     "name": "stdout",
     "output_type": "stream",
     "text": [
      "fet unif_vel_0_thresh 0 0.6892857142857143 193\n",
      "fet unif_vel_0_thresh 1 0.2392857142857143 67\n",
      "fet unif_vel_0_thresh 2 0.04642857142857143 13\n",
      "fet unif_vel_0_thresh 3 0.02142857142857143 6\n",
      "fet unif_vel_0_thresh 4 0.0035714285714285713 1\n",
      "fet unif_vel_0_thresh 5 0.0 0\n",
      "fet unif_vel_0_thresh 6 0.0 0\n",
      "fet unif_vel_0_thresh 7 0.0 0\n",
      "fet unif_vel_0_thresh 8 0.0 0\n",
      "fet unif_vel_0_thresh 9 0.0 0\n",
      "fet unif_vel_0_thresh 10 0.0 0\n"
     ]
    },
    {
     "data": {
      "image/png": "[encoded data removed]",
      "text/plain": [
       "<Figure size 432x288 with 1 Axes>"
      ]
     },
     "metadata": {
      "needs_background": "light"
     },
     "output_type": "display_data"
    }
   ],
   "source": [
    "runMode = \"unif_vel_0_thresh\"\n",
    "percentileThresh = 0.99\n",
    "tsX, tsY = makeReplicationHistForRunMode(runMode, percentileThresh, \"ts\", winSize=100000)\n",
    "fetX, fetY = makeReplicationHistForRunMode(runMode, percentileThresh, \"fet\", winSize=100000)\n",
    "plotBars(tsX, tsY, fetX, fetY, \"replication comparison: 100 kb windows\")"
   ]
  },
  {
   "cell_type": "code",
   "execution_count": null,
   "id": "78a337b2-d368-4417-86be-46f622e50031",
   "metadata": {},
   "outputs": [],
   "source": []
  }
 ],
 "metadata": {
  "kernelspec": {
   "display_name": "Python 3 (ipykernel)",
   "language": "python",
   "name": "python3"
  },
  "language_info": {
   "codemirror_mode": {
    "name": "ipython",
    "version": 3
   },
   "file_extension": ".py",
   "mimetype": "text/x-python",
   "name": "python",
   "nbconvert_exporter": "python",
   "pygments_lexer": "ipython3",
   "version": "3.9.7"
  }
 },
 "nbformat": 4,
 "nbformat_minor": 5
}
