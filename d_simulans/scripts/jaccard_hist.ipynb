{
 "cells": [
  {
   "cell_type": "code",
   "execution_count": 90,
   "metadata": {},
   "outputs": [],
   "source": [
    "import pandas as pd\n",
    "import numpy as np\n",
    "from tqdm import tqdm\n",
    "import matplotlib.pyplot as plt"
   ]
  },
  {
   "cell_type": "code",
   "execution_count": 91,
   "metadata": {},
   "outputs": [],
   "source": [
    "df = pd.read_csv(\"/work/users/l/s/lswhiteh/timesweeper-experiments/d_simulans/scripts/all_merged.tsv\", sep=\"\\t\")"
   ]
  },
  {
   "cell_type": "code",
   "execution_count": 92,
   "metadata": {},
   "outputs": [],
   "source": [
    "rs = {rep: df[df['rep'] == rep].sort_values(\"SSV_Score\", ascending=False)[:100] for rep in range(1, 11)}"
   ]
  },
  {
   "cell_type": "code",
   "execution_count": 93,
   "metadata": {},
   "outputs": [
    {
     "data": {
      "text/html": [
       "<div>\n",
       "<style scoped>\n",
       "    .dataframe tbody tr th:only-of-type {\n",
       "        vertical-align: middle;\n",
       "    }\n",
       "\n",
       "    .dataframe tbody tr th {\n",
       "        vertical-align: top;\n",
       "    }\n",
       "\n",
       "    .dataframe thead th {\n",
       "        text-align: right;\n",
       "    }\n",
       "</style>\n",
       "<table border=\"1\" class=\"dataframe\">\n",
       "  <thead>\n",
       "    <tr style=\"text-align: right;\">\n",
       "      <th></th>\n",
       "      <th>Chrom</th>\n",
       "      <th>BP</th>\n",
       "      <th>Class</th>\n",
       "      <th>Neut_Score</th>\n",
       "      <th>SSV_Score</th>\n",
       "      <th>s_coeff</th>\n",
       "      <th>Win_Start</th>\n",
       "      <th>Win_End</th>\n",
       "      <th>rep</th>\n",
       "      <th>fet</th>\n",
       "    </tr>\n",
       "  </thead>\n",
       "  <tbody>\n",
       "    <tr>\n",
       "      <th>3252484</th>\n",
       "      <td>X</td>\n",
       "      <td>4204976</td>\n",
       "      <td>SSV</td>\n",
       "      <td>0.000</td>\n",
       "      <td>1.000</td>\n",
       "      <td>0.148</td>\n",
       "      <td>4204066</td>\n",
       "      <td>4205316</td>\n",
       "      <td>1</td>\n",
       "      <td>36.48617156</td>\n",
       "    </tr>\n",
       "    <tr>\n",
       "      <th>3682144</th>\n",
       "      <td>X</td>\n",
       "      <td>18682659</td>\n",
       "      <td>SSV</td>\n",
       "      <td>0.000</td>\n",
       "      <td>1.000</td>\n",
       "      <td>0.254</td>\n",
       "      <td>18679113</td>\n",
       "      <td>18683398</td>\n",
       "      <td>1</td>\n",
       "      <td>22.76514676</td>\n",
       "    </tr>\n",
       "    <tr>\n",
       "      <th>3226667</th>\n",
       "      <td>X</td>\n",
       "      <td>3163554</td>\n",
       "      <td>SSV</td>\n",
       "      <td>0.000</td>\n",
       "      <td>1.000</td>\n",
       "      <td>0.178</td>\n",
       "      <td>3162719</td>\n",
       "      <td>3165061</td>\n",
       "      <td>1</td>\n",
       "      <td>9.91055108</td>\n",
       "    </tr>\n",
       "    <tr>\n",
       "      <th>2190355</th>\n",
       "      <td>3L</td>\n",
       "      <td>4831384</td>\n",
       "      <td>SSV</td>\n",
       "      <td>0.000</td>\n",
       "      <td>1.000</td>\n",
       "      <td>0.278</td>\n",
       "      <td>4830727</td>\n",
       "      <td>4831900</td>\n",
       "      <td>1</td>\n",
       "      <td>12.57779252</td>\n",
       "    </tr>\n",
       "    <tr>\n",
       "      <th>3226664</th>\n",
       "      <td>X</td>\n",
       "      <td>3163539</td>\n",
       "      <td>SSV</td>\n",
       "      <td>0.000</td>\n",
       "      <td>1.000</td>\n",
       "      <td>0.127</td>\n",
       "      <td>3162296</td>\n",
       "      <td>3164762</td>\n",
       "      <td>1</td>\n",
       "      <td>10.83917386</td>\n",
       "    </tr>\n",
       "    <tr>\n",
       "      <th>...</th>\n",
       "      <td>...</td>\n",
       "      <td>...</td>\n",
       "      <td>...</td>\n",
       "      <td>...</td>\n",
       "      <td>...</td>\n",
       "      <td>...</td>\n",
       "      <td>...</td>\n",
       "      <td>...</td>\n",
       "      <td>...</td>\n",
       "      <td>...</td>\n",
       "    </tr>\n",
       "    <tr>\n",
       "      <th>3609912</th>\n",
       "      <td>X</td>\n",
       "      <td>16204571</td>\n",
       "      <td>SSV</td>\n",
       "      <td>0.001</td>\n",
       "      <td>0.999</td>\n",
       "      <td>0.218</td>\n",
       "      <td>16203393</td>\n",
       "      <td>16205434</td>\n",
       "      <td>1</td>\n",
       "      <td>16.24981043</td>\n",
       "    </tr>\n",
       "    <tr>\n",
       "      <th>3233986</th>\n",
       "      <td>X</td>\n",
       "      <td>3416932</td>\n",
       "      <td>SSV</td>\n",
       "      <td>0.001</td>\n",
       "      <td>0.999</td>\n",
       "      <td>0.171</td>\n",
       "      <td>3415917</td>\n",
       "      <td>3417682</td>\n",
       "      <td>1</td>\n",
       "      <td>24.76790336</td>\n",
       "    </tr>\n",
       "    <tr>\n",
       "      <th>2002605</th>\n",
       "      <td>3L</td>\n",
       "      <td>1090122</td>\n",
       "      <td>SSV</td>\n",
       "      <td>0.001</td>\n",
       "      <td>0.999</td>\n",
       "      <td>0.135</td>\n",
       "      <td>1089483</td>\n",
       "      <td>1090590</td>\n",
       "      <td>1</td>\n",
       "      <td>10.29424758</td>\n",
       "    </tr>\n",
       "    <tr>\n",
       "      <th>2002047</th>\n",
       "      <td>3L</td>\n",
       "      <td>1076361</td>\n",
       "      <td>SSV</td>\n",
       "      <td>0.001</td>\n",
       "      <td>0.999</td>\n",
       "      <td>0.135</td>\n",
       "      <td>1075734</td>\n",
       "      <td>1077005</td>\n",
       "      <td>1</td>\n",
       "      <td>12.00387961</td>\n",
       "    </tr>\n",
       "    <tr>\n",
       "      <th>3177637</th>\n",
       "      <td>X</td>\n",
       "      <td>893541</td>\n",
       "      <td>SSV</td>\n",
       "      <td>0.001</td>\n",
       "      <td>0.999</td>\n",
       "      <td>0.274</td>\n",
       "      <td>892104</td>\n",
       "      <td>894180</td>\n",
       "      <td>1</td>\n",
       "      <td>17.47812949</td>\n",
       "    </tr>\n",
       "  </tbody>\n",
       "</table>\n",
       "<p>100 rows × 10 columns</p>\n",
       "</div>"
      ],
      "text/plain": [
       "        Chrom        BP Class  Neut_Score  SSV_Score  s_coeff  Win_Start  \\\n",
       "3252484     X   4204976   SSV       0.000      1.000    0.148    4204066   \n",
       "3682144     X  18682659   SSV       0.000      1.000    0.254   18679113   \n",
       "3226667     X   3163554   SSV       0.000      1.000    0.178    3162719   \n",
       "2190355    3L   4831384   SSV       0.000      1.000    0.278    4830727   \n",
       "3226664     X   3163539   SSV       0.000      1.000    0.127    3162296   \n",
       "...       ...       ...   ...         ...        ...      ...        ...   \n",
       "3609912     X  16204571   SSV       0.001      0.999    0.218   16203393   \n",
       "3233986     X   3416932   SSV       0.001      0.999    0.171    3415917   \n",
       "2002605    3L   1090122   SSV       0.001      0.999    0.135    1089483   \n",
       "2002047    3L   1076361   SSV       0.001      0.999    0.135    1075734   \n",
       "3177637     X    893541   SSV       0.001      0.999    0.274     892104   \n",
       "\n",
       "          Win_End  rep          fet  \n",
       "3252484   4205316    1  36.48617156  \n",
       "3682144  18683398    1  22.76514676  \n",
       "3226667   3165061    1   9.91055108  \n",
       "2190355   4831900    1  12.57779252  \n",
       "3226664   3164762    1  10.83917386  \n",
       "...           ...  ...          ...  \n",
       "3609912  16205434    1  16.24981043  \n",
       "3233986   3417682    1  24.76790336  \n",
       "2002605   1090590    1  10.29424758  \n",
       "2002047   1077005    1  12.00387961  \n",
       "3177637    894180    1  17.47812949  \n",
       "\n",
       "[100 rows x 10 columns]"
      ]
     },
     "execution_count": 93,
     "metadata": {},
     "output_type": "execute_result"
    }
   ],
   "source": [
    "rs[1]"
   ]
  },
  {
   "cell_type": "code",
   "execution_count": 94,
   "metadata": {},
   "outputs": [
    {
     "data": {
      "text/html": [
       "<div>\n",
       "<style scoped>\n",
       "    .dataframe tbody tr th:only-of-type {\n",
       "        vertical-align: middle;\n",
       "    }\n",
       "\n",
       "    .dataframe tbody tr th {\n",
       "        vertical-align: top;\n",
       "    }\n",
       "\n",
       "    .dataframe thead th {\n",
       "        text-align: right;\n",
       "    }\n",
       "</style>\n",
       "<table border=\"1\" class=\"dataframe\">\n",
       "  <thead>\n",
       "    <tr style=\"text-align: right;\">\n",
       "      <th></th>\n",
       "      <th>Chrom</th>\n",
       "      <th>BP</th>\n",
       "      <th>Class</th>\n",
       "      <th>Neut_Score</th>\n",
       "      <th>SSV_Score</th>\n",
       "      <th>s_coeff</th>\n",
       "      <th>Win_Start</th>\n",
       "      <th>Win_End</th>\n",
       "      <th>rep</th>\n",
       "      <th>fet</th>\n",
       "    </tr>\n",
       "  </thead>\n",
       "  <tbody>\n",
       "    <tr>\n",
       "      <th>5891655</th>\n",
       "      <td>X</td>\n",
       "      <td>8215094</td>\n",
       "      <td>SSV</td>\n",
       "      <td>0.000</td>\n",
       "      <td>1.000</td>\n",
       "      <td>0.189</td>\n",
       "      <td>8214793</td>\n",
       "      <td>8215704</td>\n",
       "      <td>2</td>\n",
       "      <td>14.45195098</td>\n",
       "    </tr>\n",
       "    <tr>\n",
       "      <th>4726925</th>\n",
       "      <td>2L</td>\n",
       "      <td>18919733</td>\n",
       "      <td>SSV</td>\n",
       "      <td>0.000</td>\n",
       "      <td>1.000</td>\n",
       "      <td>0.123</td>\n",
       "      <td>18919108</td>\n",
       "      <td>18920499</td>\n",
       "      <td>2</td>\n",
       "      <td>13.00699762</td>\n",
       "    </tr>\n",
       "    <tr>\n",
       "      <th>4397494</th>\n",
       "      <td>2L</td>\n",
       "      <td>12971616</td>\n",
       "      <td>SSV</td>\n",
       "      <td>0.001</td>\n",
       "      <td>0.999</td>\n",
       "      <td>0.206</td>\n",
       "      <td>12971110</td>\n",
       "      <td>12972293</td>\n",
       "      <td>2</td>\n",
       "      <td>15.99029510</td>\n",
       "    </tr>\n",
       "    <tr>\n",
       "      <th>4221022</th>\n",
       "      <td>2L</td>\n",
       "      <td>9960376</td>\n",
       "      <td>SSV</td>\n",
       "      <td>0.001</td>\n",
       "      <td>0.999</td>\n",
       "      <td>0.224</td>\n",
       "      <td>9960167</td>\n",
       "      <td>9960733</td>\n",
       "      <td>2</td>\n",
       "      <td>9.03343926</td>\n",
       "    </tr>\n",
       "    <tr>\n",
       "      <th>5715002</th>\n",
       "      <td>X</td>\n",
       "      <td>2431036</td>\n",
       "      <td>SSV</td>\n",
       "      <td>0.001</td>\n",
       "      <td>0.999</td>\n",
       "      <td>0.190</td>\n",
       "      <td>2430447</td>\n",
       "      <td>2431295</td>\n",
       "      <td>2</td>\n",
       "      <td>15.22607098</td>\n",
       "    </tr>\n",
       "    <tr>\n",
       "      <th>...</th>\n",
       "      <td>...</td>\n",
       "      <td>...</td>\n",
       "      <td>...</td>\n",
       "      <td>...</td>\n",
       "      <td>...</td>\n",
       "      <td>...</td>\n",
       "      <td>...</td>\n",
       "      <td>...</td>\n",
       "      <td>...</td>\n",
       "      <td>...</td>\n",
       "    </tr>\n",
       "    <tr>\n",
       "      <th>6235112</th>\n",
       "      <td>X</td>\n",
       "      <td>20126309</td>\n",
       "      <td>SSV</td>\n",
       "      <td>0.002</td>\n",
       "      <td>0.998</td>\n",
       "      <td>0.265</td>\n",
       "      <td>20125585</td>\n",
       "      <td>20128016</td>\n",
       "      <td>2</td>\n",
       "      <td>7.40963149</td>\n",
       "    </tr>\n",
       "    <tr>\n",
       "      <th>5776300</th>\n",
       "      <td>X</td>\n",
       "      <td>4480468</td>\n",
       "      <td>SSV</td>\n",
       "      <td>0.002</td>\n",
       "      <td>0.998</td>\n",
       "      <td>0.163</td>\n",
       "      <td>4480251</td>\n",
       "      <td>4481049</td>\n",
       "      <td>2</td>\n",
       "      <td>10.29734975</td>\n",
       "    </tr>\n",
       "    <tr>\n",
       "      <th>5129506</th>\n",
       "      <td>2R</td>\n",
       "      <td>6917370</td>\n",
       "      <td>SSV</td>\n",
       "      <td>0.002</td>\n",
       "      <td>0.998</td>\n",
       "      <td>0.104</td>\n",
       "      <td>6917015</td>\n",
       "      <td>6917851</td>\n",
       "      <td>2</td>\n",
       "      <td>9.08056610</td>\n",
       "    </tr>\n",
       "    <tr>\n",
       "      <th>4804132</th>\n",
       "      <td>2R</td>\n",
       "      <td>296093</td>\n",
       "      <td>SSV</td>\n",
       "      <td>0.002</td>\n",
       "      <td>0.998</td>\n",
       "      <td>0.091</td>\n",
       "      <td>295471</td>\n",
       "      <td>296289</td>\n",
       "      <td>2</td>\n",
       "      <td>16.32964019</td>\n",
       "    </tr>\n",
       "    <tr>\n",
       "      <th>6159788</th>\n",
       "      <td>X</td>\n",
       "      <td>17411717</td>\n",
       "      <td>SSV</td>\n",
       "      <td>0.002</td>\n",
       "      <td>0.998</td>\n",
       "      <td>0.115</td>\n",
       "      <td>17410623</td>\n",
       "      <td>17412347</td>\n",
       "      <td>2</td>\n",
       "      <td>10.02860738</td>\n",
       "    </tr>\n",
       "  </tbody>\n",
       "</table>\n",
       "<p>100 rows × 10 columns</p>\n",
       "</div>"
      ],
      "text/plain": [
       "        Chrom        BP Class  Neut_Score  SSV_Score  s_coeff  Win_Start  \\\n",
       "5891655     X   8215094   SSV       0.000      1.000    0.189    8214793   \n",
       "4726925    2L  18919733   SSV       0.000      1.000    0.123   18919108   \n",
       "4397494    2L  12971616   SSV       0.001      0.999    0.206   12971110   \n",
       "4221022    2L   9960376   SSV       0.001      0.999    0.224    9960167   \n",
       "5715002     X   2431036   SSV       0.001      0.999    0.190    2430447   \n",
       "...       ...       ...   ...         ...        ...      ...        ...   \n",
       "6235112     X  20126309   SSV       0.002      0.998    0.265   20125585   \n",
       "5776300     X   4480468   SSV       0.002      0.998    0.163    4480251   \n",
       "5129506    2R   6917370   SSV       0.002      0.998    0.104    6917015   \n",
       "4804132    2R    296093   SSV       0.002      0.998    0.091     295471   \n",
       "6159788     X  17411717   SSV       0.002      0.998    0.115   17410623   \n",
       "\n",
       "          Win_End  rep          fet  \n",
       "5891655   8215704    2  14.45195098  \n",
       "4726925  18920499    2  13.00699762  \n",
       "4397494  12972293    2  15.99029510  \n",
       "4221022   9960733    2   9.03343926  \n",
       "5715002   2431295    2  15.22607098  \n",
       "...           ...  ...          ...  \n",
       "6235112  20128016    2   7.40963149  \n",
       "5776300   4481049    2  10.29734975  \n",
       "5129506   6917851    2   9.08056610  \n",
       "4804132    296289    2  16.32964019  \n",
       "6159788  17412347    2  10.02860738  \n",
       "\n",
       "[100 rows x 10 columns]"
      ]
     },
     "execution_count": 94,
     "metadata": {},
     "output_type": "execute_result"
    }
   ],
   "source": [
    "rs[2]"
   ]
  },
  {
   "cell_type": "code",
   "execution_count": 95,
   "metadata": {},
   "outputs": [],
   "source": [
    "hits = []\n",
    "for rep, rdf in rs.items():\n",
    "    rephits = []\n",
    "    for srep, sdf in rs.items():\n",
    "        shits = []\n",
    "        if rep != srep:\n",
    "            for idx, hit in rdf.iterrows():\n",
    "                shits.append(len(sdf[(sdf[\"Chrom\"] == hit[\"Chrom\"]) & (sdf[\"BP\"] > hit[\"BP\"] - 5000) & (sdf[\"BP\"] < hit[\"BP\"] + 5000)]))\n",
    "                \n",
    "            rephits.append(shits)\n",
    "    hits.append(rephits)"
   ]
  },
  {
   "cell_type": "code",
   "execution_count": 96,
   "metadata": {},
   "outputs": [
    {
     "data": {
      "text/plain": [
       "array([[[0, 0, 0, ..., 0, 0, 0],\n",
       "        [0, 0, 0, ..., 0, 0, 0],\n",
       "        [0, 0, 0, ..., 0, 0, 0],\n",
       "        ...,\n",
       "        [0, 0, 0, ..., 0, 0, 0],\n",
       "        [0, 0, 0, ..., 0, 0, 0],\n",
       "        [0, 0, 0, ..., 0, 0, 0]],\n",
       "\n",
       "       [[0, 0, 0, ..., 0, 0, 0],\n",
       "        [0, 0, 0, ..., 0, 0, 0],\n",
       "        [0, 0, 0, ..., 0, 0, 0],\n",
       "        ...,\n",
       "        [0, 0, 0, ..., 0, 0, 0],\n",
       "        [0, 0, 0, ..., 0, 0, 0],\n",
       "        [0, 0, 0, ..., 0, 0, 0]],\n",
       "\n",
       "       [[0, 0, 0, ..., 0, 0, 0],\n",
       "        [0, 0, 0, ..., 0, 0, 0],\n",
       "        [0, 0, 0, ..., 0, 0, 0],\n",
       "        ...,\n",
       "        [0, 0, 0, ..., 0, 0, 0],\n",
       "        [0, 0, 0, ..., 0, 0, 0],\n",
       "        [0, 0, 0, ..., 0, 0, 0]],\n",
       "\n",
       "       ...,\n",
       "\n",
       "       [[0, 0, 0, ..., 0, 0, 0],\n",
       "        [0, 0, 0, ..., 0, 0, 0],\n",
       "        [0, 0, 0, ..., 0, 0, 0],\n",
       "        ...,\n",
       "        [0, 0, 0, ..., 0, 0, 0],\n",
       "        [0, 0, 0, ..., 0, 0, 0],\n",
       "        [0, 0, 0, ..., 0, 0, 0]],\n",
       "\n",
       "       [[0, 0, 0, ..., 0, 0, 0],\n",
       "        [0, 0, 0, ..., 0, 0, 0],\n",
       "        [0, 0, 0, ..., 0, 0, 0],\n",
       "        ...,\n",
       "        [0, 0, 0, ..., 0, 0, 0],\n",
       "        [0, 0, 0, ..., 0, 0, 0],\n",
       "        [0, 0, 0, ..., 0, 0, 0]],\n",
       "\n",
       "       [[0, 0, 0, ..., 0, 0, 0],\n",
       "        [0, 0, 0, ..., 0, 0, 0],\n",
       "        [0, 0, 0, ..., 0, 0, 0],\n",
       "        ...,\n",
       "        [0, 0, 0, ..., 0, 0, 0],\n",
       "        [0, 0, 0, ..., 0, 0, 0],\n",
       "        [0, 0, 0, ..., 0, 0, 0]]])"
      ]
     },
     "execution_count": 96,
     "metadata": {},
     "output_type": "execute_result"
    }
   ],
   "source": [
    "foo = np.array(hits)\n",
    "foo.shape\n",
    "foo"
   ]
  },
  {
   "cell_type": "code",
   "execution_count": 97,
   "metadata": {},
   "outputs": [],
   "source": [
    "rs = {rep: df[df['rep'] == rep].sort_values(\"fet\", ascending=False)[:100] for rep in range(1, 11)}"
   ]
  },
  {
   "cell_type": "code",
   "execution_count": 98,
   "metadata": {},
   "outputs": [],
   "source": [
    "fhits = []\n",
    "for rep, rdf in rs.items():\n",
    "    rephits = []\n",
    "    for srep, sdf in rs.items():\n",
    "        shits = []\n",
    "        if rep != srep:\n",
    "            for idx, hit in rdf.iterrows():\n",
    "                shits.append(len(sdf[(sdf[\"Chrom\"] == hit[\"Chrom\"]) & (sdf[\"BP\"] > hit[\"BP\"] - 5000) & (sdf[\"BP\"] < hit[\"BP\"] + 5000)]))\n",
    "                \n",
    "            rephits.append(shits)\n",
    "    fhits.append(rephits)"
   ]
  },
  {
   "cell_type": "code",
   "execution_count": 113,
   "metadata": {},
   "outputs": [
    {
     "data": {
      "text/plain": [
       "(10, 9, 100)"
      ]
     },
     "execution_count": 113,
     "metadata": {},
     "output_type": "execute_result"
    }
   ],
   "source": [
    "bar = np.array(fhits)\n",
    "bar.shape\n",
    "#bar[4]\n"
   ]
  },
  {
   "cell_type": "code",
   "execution_count": 100,
   "metadata": {},
   "outputs": [
    {
     "data": {
      "text/plain": [
       "array([1, 3, 1, 1, 3, 2, 2, 1, 2, 3, 3, 1, 1, 1, 1, 1, 1, 1, 1, 1, 1, 1,\n",
       "       2, 2, 1, 1, 1, 1, 1, 1, 1, 1, 1, 1, 1, 1, 1, 1, 1, 1, 1, 3, 2, 2,\n",
       "       2, 2, 1, 1, 1, 2, 2, 1, 1, 7, 5, 1, 1, 1, 1, 1, 1, 1, 1, 1, 1, 1,\n",
       "       1, 1, 1, 1, 1, 1, 1, 1, 4, 1, 8, 1, 1, 1, 1])"
      ]
     },
     "execution_count": 100,
     "metadata": {},
     "output_type": "execute_result"
    }
   ],
   "source": [
    "foo[foo > 0]"
   ]
  },
  {
   "cell_type": "code",
   "execution_count": 101,
   "metadata": {},
   "outputs": [
    {
     "data": {
      "text/plain": [
       "(array([61., 11.,  5.,  0.,  1.,  1.,  0.,  0.,  1.,  1.]),\n",
       " array([1. , 1.7, 2.4, 3.1, 3.8, 4.5, 5.2, 5.9, 6.6, 7.3, 8. ]),\n",
       " <BarContainer object of 10 artists>)"
      ]
     },
     "execution_count": 101,
     "metadata": {},
     "output_type": "execute_result"
    },
    {
     "data": {
      "image/png": "[encoded data removed]",
      "text/plain": [
       "<Figure size 640x480 with 1 Axes>"
      ]
     },
     "metadata": {},
     "output_type": "display_data"
    }
   ],
   "source": [
    "plt.hist(foo[foo > 0].flatten())\n"
   ]
  },
  {
   "cell_type": "code",
   "execution_count": 102,
   "metadata": {},
   "outputs": [
    {
     "data": {
      "text/plain": [
       "(array([ 4.,  1.,  0.,  0.,  0.,  0., 23.,  0.,  0., 15.]),\n",
       " array([ 1. ,  3.2,  5.4,  7.6,  9.8, 12. , 14.2, 16.4, 18.6, 20.8, 23. ]),\n",
       " <BarContainer object of 10 artists>)"
      ]
     },
     "execution_count": 102,
     "metadata": {},
     "output_type": "execute_result"
    },
    {
     "data": {
      "image/png": "[encoded data removed]",
      "text/plain": [
       "<Figure size 640x480 with 1 Axes>"
      ]
     },
     "metadata": {},
     "output_type": "display_data"
    }
   ],
   "source": [
    "plt.hist(bar[bar > 0].flatten())"
   ]
  },
  {
   "cell_type": "code",
   "execution_count": 108,
   "metadata": {},
   "outputs": [
    {
     "data": {
      "text/plain": [
       "Text(0.5, 0, 'Number of Replications')"
      ]
     },
     "execution_count": 108,
     "metadata": {},
     "output_type": "execute_result"
    },
    {
     "data": {
      "image/png": "[encoded data removed]",
      "text/plain": [
       "<Figure size 640x480 with 1 Axes>"
      ]
     },
     "metadata": {},
     "output_type": "display_data"
    }
   ],
   "source": [
    "bins = np.linspace(0, 30)\n",
    "\n",
    "plt.hist(foo[foo> 0].flatten(), bins, alpha=0.5, label=\"Timesweeper\")\n",
    "plt.hist(bar[bar > 0].flatten(), bins, alpha=0.5, label=\"FET\")\n",
    "plt.legend()\n",
    "plt.title(\"Top 100 Hits Replicated within 5kb\")\n",
    "plt.ylabel(\"Frequency\")\n",
    "plt.xlabel(\"Number of Replications\")"
   ]
  }
 ],
 "metadata": {
  "kernelspec": {
   "display_name": "blinx",
   "language": "python",
   "name": "python3"
  },
  "language_info": {
   "codemirror_mode": {
    "name": "ipython",
    "version": 3
   },
   "file_extension": ".py",
   "mimetype": "text/x-python",
   "name": "python",
   "nbconvert_exporter": "python",
   "pygments_lexer": "ipython3",
   "version": "3.11.0"
  },
  "orig_nbformat": 4
 },
 "nbformat": 4,
 "nbformat_minor": 2
}
