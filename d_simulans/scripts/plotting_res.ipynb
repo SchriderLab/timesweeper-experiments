{
 "cells": [
  {
   "cell_type": "code",
   "execution_count": 2,
   "metadata": {},
   "outputs": [],
   "source": [
    "import pandas as pd\n",
    "import numpy as np\n",
    "import matplotlib.pyplot as plt"
   ]
  },
  {
   "cell_type": "code",
   "execution_count": 3,
   "metadata": {},
   "outputs": [
    {
     "data": {
      "text/html": [
       "<div>\n",
       "<style scoped>\n",
       "    .dataframe tbody tr th:only-of-type {\n",
       "        vertical-align: middle;\n",
       "    }\n",
       "\n",
       "    .dataframe tbody tr th {\n",
       "        vertical-align: top;\n",
       "    }\n",
       "\n",
       "    .dataframe thead th {\n",
       "        text-align: right;\n",
       "    }\n",
       "</style>\n",
       "<table border=\"1\" class=\"dataframe\">\n",
       "  <thead>\n",
       "    <tr style=\"text-align: right;\">\n",
       "      <th></th>\n",
       "      <th>Chrom</th>\n",
       "      <th>BP</th>\n",
       "      <th>Class</th>\n",
       "      <th>Win_Start</th>\n",
       "      <th>Win_End</th>\n",
       "      <th>neut_Prob</th>\n",
       "      <th>ssv_Prob</th>\n",
       "      <th>ssv_selcoeff_pred</th>\n",
       "    </tr>\n",
       "  </thead>\n",
       "  <tbody>\n",
       "    <tr>\n",
       "      <th>0</th>\n",
       "      <td>2L</td>\n",
       "      <td>960</td>\n",
       "      <td>neut</td>\n",
       "      <td>59</td>\n",
       "      <td>2748</td>\n",
       "      <td>0.714</td>\n",
       "      <td>0.286</td>\n",
       "      <td>0.104</td>\n",
       "    </tr>\n",
       "    <tr>\n",
       "      <th>1</th>\n",
       "      <td>2L</td>\n",
       "      <td>965</td>\n",
       "      <td>neut</td>\n",
       "      <td>62</td>\n",
       "      <td>2762</td>\n",
       "      <td>0.710</td>\n",
       "      <td>0.290</td>\n",
       "      <td>0.077</td>\n",
       "    </tr>\n",
       "    <tr>\n",
       "      <th>2</th>\n",
       "      <td>2L</td>\n",
       "      <td>970</td>\n",
       "      <td>neut</td>\n",
       "      <td>153</td>\n",
       "      <td>3304</td>\n",
       "      <td>0.699</td>\n",
       "      <td>0.301</td>\n",
       "      <td>0.060</td>\n",
       "    </tr>\n",
       "    <tr>\n",
       "      <th>3</th>\n",
       "      <td>2L</td>\n",
       "      <td>981</td>\n",
       "      <td>neut</td>\n",
       "      <td>207</td>\n",
       "      <td>3448</td>\n",
       "      <td>0.779</td>\n",
       "      <td>0.221</td>\n",
       "      <td>0.068</td>\n",
       "    </tr>\n",
       "    <tr>\n",
       "      <th>4</th>\n",
       "      <td>2L</td>\n",
       "      <td>994</td>\n",
       "      <td>neut</td>\n",
       "      <td>219</td>\n",
       "      <td>3500</td>\n",
       "      <td>0.841</td>\n",
       "      <td>0.159</td>\n",
       "      <td>0.090</td>\n",
       "    </tr>\n",
       "  </tbody>\n",
       "</table>\n",
       "</div>"
      ],
      "text/plain": [
       "  Chrom   BP Class  Win_Start  Win_End  neut_Prob  ssv_Prob  ssv_selcoeff_pred\n",
       "0    2L  960  neut         59     2748      0.714     0.286              0.104\n",
       "1    2L  965  neut         62     2762      0.710     0.290              0.077\n",
       "2    2L  970  neut        153     3304      0.699     0.301              0.060\n",
       "3    2L  981  neut        207     3448      0.779     0.221              0.068\n",
       "4    2L  994  neut        219     3500      0.841     0.159              0.090"
      ]
     },
     "execution_count": 3,
     "metadata": {},
     "output_type": "execute_result"
    }
   ],
   "source": [
    "df = pd.read_csv('/work/users/l/s/lswhiteh/timesweeper-experiments/d_simulans/d_simulans_output/aft_2L_1_preds.csv', sep=\"\\t\")\n",
    "df.head()\n"
   ]
  },
  {
   "cell_type": "code",
   "execution_count": 6,
   "metadata": {},
   "outputs": [
    {
     "data": {
      "text/html": [
       "<div>\n",
       "<style scoped>\n",
       "    .dataframe tbody tr th:only-of-type {\n",
       "        vertical-align: middle;\n",
       "    }\n",
       "\n",
       "    .dataframe tbody tr th {\n",
       "        vertical-align: top;\n",
       "    }\n",
       "\n",
       "    .dataframe thead th {\n",
       "        text-align: right;\n",
       "    }\n",
       "</style>\n",
       "<table border=\"1\" class=\"dataframe\">\n",
       "  <thead>\n",
       "    <tr style=\"text-align: right;\">\n",
       "      <th></th>\n",
       "      <th>Chrom</th>\n",
       "      <th>BP</th>\n",
       "      <th>Class</th>\n",
       "      <th>Win_Start</th>\n",
       "      <th>Win_End</th>\n",
       "      <th>neut_Prob</th>\n",
       "      <th>ssv_Prob</th>\n",
       "      <th>ssv_selcoeff_pred</th>\n",
       "    </tr>\n",
       "  </thead>\n",
       "  <tbody>\n",
       "  </tbody>\n",
       "</table>\n",
       "</div>"
      ],
      "text/plain": [
       "Empty DataFrame\n",
       "Columns: [Chrom, BP, Class, Win_Start, Win_End, neut_Prob, ssv_Prob, ssv_selcoeff_pred]\n",
       "Index: []"
      ]
     },
     "execution_count": 6,
     "metadata": {},
     "output_type": "execute_result"
    }
   ],
   "source": [
    "df = df[df[\"Class\"] == \"SSV\"]\n",
    "df = df[df[\"ssv_Prob\"] > 0.95]\n",
    "df.describe()\n",
    "df.head()"
   ]
  },
  {
   "cell_type": "code",
   "execution_count": 1,
   "metadata": {},
   "outputs": [
    {
     "ename": "NameError",
     "evalue": "name 'df' is not defined",
     "output_type": "error",
     "traceback": [
      "\u001b[0;31m---------------------------------------------------------------------------\u001b[0m",
      "\u001b[0;31mNameError\u001b[0m                                 Traceback (most recent call last)",
      "Cell \u001b[0;32mIn[1], line 1\u001b[0m\n\u001b[0;32m----> 1\u001b[0m df\u001b[39m.\u001b[39msort_values(\u001b[39m\"\u001b[39m\u001b[39mBP\u001b[39m\u001b[39m\"\u001b[39m)\n\u001b[1;32m      2\u001b[0m bins \u001b[39m=\u001b[39m np\u001b[39m.\u001b[39marange(df[\u001b[39m\"\u001b[39m\u001b[39mBP\u001b[39m\u001b[39m\"\u001b[39m]\u001b[39m.\u001b[39mmin(), df[\u001b[39m\"\u001b[39m\u001b[39mBP\u001b[39m\u001b[39m\"\u001b[39m]\u001b[39m.\u001b[39mmax(), \u001b[39m1000\u001b[39m)\n\u001b[1;32m      3\u001b[0m ind \u001b[39m=\u001b[39m np\u001b[39m.\u001b[39mdigitize(df[\u001b[39m\"\u001b[39m\u001b[39mBP\u001b[39m\u001b[39m\"\u001b[39m], bins)\n",
      "\u001b[0;31mNameError\u001b[0m: name 'df' is not defined"
     ]
    }
   ],
   "source": [
    "df.sort_values(\"BP\")\n",
    "bins = np.arange(df[\"BP\"].min(), df[\"BP\"].max(), 1000)\n",
    "ind = np.digitize(df[\"BP\"], bins)\n",
    "grouped = df.groupby(ind)\n",
    "\n",
    "grouped.plot.bar(\"BP\", \"SSV_Score\")"
   ]
  }
 ],
 "metadata": {
  "interpreter": {
   "hash": "665044eae376c8d1ee6b10740d28f30c7e071430546d8cf5033148061d895919"
  },
  "kernelspec": {
   "display_name": "Python 3",
   "language": "python",
   "name": "python3"
  },
  "language_info": {
   "codemirror_mode": {
    "name": "ipython",
    "version": 3
   },
   "file_extension": ".py",
   "mimetype": "text/x-python",
   "name": "python",
   "nbconvert_exporter": "python",
   "pygments_lexer": "ipython3",
   "version": "3.11.0"
  },
  "orig_nbformat": 4
 },
 "nbformat": 4,
 "nbformat_minor": 2
}
