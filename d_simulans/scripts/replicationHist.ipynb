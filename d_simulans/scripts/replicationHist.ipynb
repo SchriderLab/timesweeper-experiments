{
 "cells": [
  {
   "cell_type": "code",
   "execution_count": 2,
   "id": "4cbd6645-4e5d-4dd9-b61a-dbbb5e3a65fc",
   "metadata": {},
   "outputs": [],
   "source": [
    "import sys\n",
    "import glob\n",
    "import numpy as np\n",
    "import collections\n",
    "import matplotlib.pyplot as plt"
   ]
  },
  {
   "cell_type": "code",
   "execution_count": 3,
   "id": "156b4554-6b2f-4716-9732-0e9b6553cf9c",
   "metadata": {},
   "outputs": [],
   "source": [
    "def makeReplicationHistForRunMode(runMode, percentileThresh, tsOrFet, numReps=11, winSize=10000):\n",
    "\n",
    "    assert tsOrFet.lower() in [\"ts\",\"fet\"]\n",
    "\n",
    "    allScoreCompFileNames = glob.glob(f\"/pine/scr/d/s/dschride/data/timeSeriesSweeps/compareToFETOut/rep*ScoreComp*_{runMode}.txt\")\n",
    "\n",
    "    scoreIndex = 2 if tsOrFet == \"ts\" else 3\n",
    "\n",
    "    scores = []\n",
    "    for cfn in allScoreCompFileNames:\n",
    "        #sys.stderr.write(f'reading {cfn}\\n')\n",
    "        with open(cfn, 'rt') as cf:\n",
    "            for line in cf:\n",
    "                scores.append(float(line.strip().split()[scoreIndex]))\n",
    "    threshold = np.percentile(scores, percentileThresh*100)\n",
    "    sys.stderr.write(f'chosen threshold for {runMode}: ({percentileThresh*100}th percentile): {threshold}\\n')\n",
    "\n",
    "    repCounts = {}\n",
    "    for rep in range(1, numReps):\n",
    "        sys.stderr.write(f'processing rep {rep}\\n')\n",
    "        fn = f\"/pine/scr/d/s/dschride/data/timeSeriesSweeps/replicationOfTopHits{'' if tsOrFet == 'ts' else 'FET'}/rep{rep}_{runMode}_repComp.txt\"\n",
    "        with open(fn, 'rt') as f:\n",
    "            for line in f:\n",
    "                line = line.strip()\n",
    "                splitLine = line.split(\"\\t\")\n",
    "                chrom, pos, tsScore, fetScore, freqVel, otherTsScoreStr, otherFetScoreStr, otherFreqVelsStr = splitLine\n",
    "                pos = int(pos)\n",
    "                pos = pos-(pos % winSize)\n",
    "\n",
    "                if tsOrFet == \"ts\":\n",
    "                    otherScores = [float(x) for x in otherTsScoreStr.split(\"|\")]\n",
    "                else:\n",
    "                    otherScores = [float(x) for x in otherFetScoreStr.split(\"|\")]\n",
    "\n",
    "                replicationVector = [1 if x > threshold else 0 for x in otherScores]\n",
    "                if (chrom, pos) in repCounts:\n",
    "                    repCounts[(chrom, pos)] = max(sum(replicationVector), repCounts[(chrom, pos)])\n",
    "                else:\n",
    "                    repCounts[(chrom, pos)] = sum(replicationVector)\n",
    "                    \n",
    "    counts = collections.Counter(repCounts.values())\n",
    "    outx, outy = [], []\n",
    "    for i in range(0, numReps):\n",
    "        print(tsOrFet, runMode, i, counts[i]/sum(counts.values()), counts[i])\n",
    "        outy.append(counts[i]/sum(counts.values()))\n",
    "        outx.append(i)\n",
    "    return outx, outy"
   ]
  },
  {
   "cell_type": "code",
   "execution_count": 4,
   "id": "6b449579-1db4-4a9a-bf12-8eb3856faf5d",
   "metadata": {},
   "outputs": [],
   "source": [
    "def plotBars(tsX, tsY, fetX, fetY, title):\n",
    "    \"\"\"code modified from\n",
    "    https://matplotlib.org/stable/gallery/lines_bars_and_markers/barchart.html\"\"\"\n",
    "    \n",
    "    assert tsX == fetX\n",
    "    \n",
    "    width = 0.35\n",
    "    fig, ax = plt.subplots()\n",
    "    rects1 = ax.bar(np.array(tsX) - width/2, tsY, width, label='TimeSweeper')\n",
    "    rects2 = ax.bar(np.array(fetX) + width/2, fetY, width, label='FET')\n",
    "\n",
    "    # Add some text for labels, title and custom x-axis tick labels, etc.\n",
    "    ax.set_ylabel('Fraction of hits')\n",
    "    ax.set_xlabel('Number of times a hit was replicated')\n",
    "    ax.set_title(title)\n",
    "    ax.legend()\n",
    "\n",
    "    fig.tight_layout()\n",
    "\n",
    "    plt.show()"
   ]
  },
  {
   "cell_type": "code",
   "execution_count": 5,
   "id": "ad35cc4f-3a85-48f0-a776-c4da5de4a6e9",
   "metadata": {},
   "outputs": [
    {
     "ename": "IndexError",
     "evalue": "cannot do a non-empty take from an empty axes.",
     "output_type": "error",
     "traceback": [
      "\u001b[0;31m---------------------------------------------------------------------------\u001b[0m",
      "\u001b[0;31mIndexError\u001b[0m                                Traceback (most recent call last)",
      "Cell \u001b[0;32mIn[5], line 3\u001b[0m\n\u001b[1;32m      1\u001b[0m runMode \u001b[39m=\u001b[39m \u001b[39m\"\u001b[39m\u001b[39munif_vel_0_thresh\u001b[39m\u001b[39m\"\u001b[39m\n\u001b[1;32m      2\u001b[0m percentileThresh \u001b[39m=\u001b[39m \u001b[39m0.99\u001b[39m\n\u001b[0;32m----> 3\u001b[0m tsX, tsY \u001b[39m=\u001b[39m makeReplicationHistForRunMode(runMode, percentileThresh, \u001b[39m\"\u001b[39;49m\u001b[39mts\u001b[39;49m\u001b[39m\"\u001b[39;49m, winSize\u001b[39m=\u001b[39;49m\u001b[39m10000\u001b[39;49m)\n\u001b[1;32m      4\u001b[0m \u001b[39mprint\u001b[39m(tsX, tsY)\n\u001b[1;32m      5\u001b[0m fetX, fetY \u001b[39m=\u001b[39m makeReplicationHistForRunMode(runMode, percentileThresh, \u001b[39m\"\u001b[39m\u001b[39mfet\u001b[39m\u001b[39m\"\u001b[39m, winSize\u001b[39m=\u001b[39m\u001b[39m10000\u001b[39m)\n",
      "Cell \u001b[0;32mIn[3], line 15\u001b[0m, in \u001b[0;36mmakeReplicationHistForRunMode\u001b[0;34m(runMode, percentileThresh, tsOrFet, numReps, winSize)\u001b[0m\n\u001b[1;32m     13\u001b[0m         \u001b[39mfor\u001b[39;00m line \u001b[39min\u001b[39;00m cf:\n\u001b[1;32m     14\u001b[0m             scores\u001b[39m.\u001b[39mappend(\u001b[39mfloat\u001b[39m(line\u001b[39m.\u001b[39mstrip()\u001b[39m.\u001b[39msplit()[scoreIndex]))\n\u001b[0;32m---> 15\u001b[0m threshold \u001b[39m=\u001b[39m np\u001b[39m.\u001b[39;49mpercentile(scores, percentileThresh\u001b[39m*\u001b[39;49m\u001b[39m100\u001b[39;49m)\n\u001b[1;32m     16\u001b[0m sys\u001b[39m.\u001b[39mstderr\u001b[39m.\u001b[39mwrite(\u001b[39mf\u001b[39m\u001b[39m'\u001b[39m\u001b[39mchosen threshold for \u001b[39m\u001b[39m{\u001b[39;00mrunMode\u001b[39m}\u001b[39;00m\u001b[39m: (\u001b[39m\u001b[39m{\u001b[39;00mpercentileThresh\u001b[39m*\u001b[39m\u001b[39m100\u001b[39m\u001b[39m}\u001b[39;00m\u001b[39mth percentile): \u001b[39m\u001b[39m{\u001b[39;00mthreshold\u001b[39m}\u001b[39;00m\u001b[39m\\n\u001b[39;00m\u001b[39m'\u001b[39m)\n\u001b[1;32m     18\u001b[0m repCounts \u001b[39m=\u001b[39m {}\n",
      "File \u001b[0;32m<__array_function__ internals>:180\u001b[0m, in \u001b[0;36mpercentile\u001b[0;34m(*args, **kwargs)\u001b[0m\n",
      "File \u001b[0;32m~/.conda/envs/blinx/lib/python3.11/site-packages/numpy/lib/function_base.py:4166\u001b[0m, in \u001b[0;36mpercentile\u001b[0;34m(a, q, axis, out, overwrite_input, method, keepdims, interpolation)\u001b[0m\n\u001b[1;32m   4164\u001b[0m \u001b[39mif\u001b[39;00m \u001b[39mnot\u001b[39;00m _quantile_is_valid(q):\n\u001b[1;32m   4165\u001b[0m     \u001b[39mraise\u001b[39;00m \u001b[39mValueError\u001b[39;00m(\u001b[39m\"\u001b[39m\u001b[39mPercentiles must be in the range [0, 100]\u001b[39m\u001b[39m\"\u001b[39m)\n\u001b[0;32m-> 4166\u001b[0m \u001b[39mreturn\u001b[39;00m _quantile_unchecked(\n\u001b[1;32m   4167\u001b[0m     a, q, axis, out, overwrite_input, method, keepdims)\n",
      "File \u001b[0;32m~/.conda/envs/blinx/lib/python3.11/site-packages/numpy/lib/function_base.py:4424\u001b[0m, in \u001b[0;36m_quantile_unchecked\u001b[0;34m(a, q, axis, out, overwrite_input, method, keepdims)\u001b[0m\n\u001b[1;32m   4416\u001b[0m \u001b[39mdef\u001b[39;00m \u001b[39m_quantile_unchecked\u001b[39m(a,\n\u001b[1;32m   4417\u001b[0m                         q,\n\u001b[1;32m   4418\u001b[0m                         axis\u001b[39m=\u001b[39m\u001b[39mNone\u001b[39;00m,\n\u001b[0;32m   (...)\u001b[0m\n\u001b[1;32m   4421\u001b[0m                         method\u001b[39m=\u001b[39m\u001b[39m\"\u001b[39m\u001b[39mlinear\u001b[39m\u001b[39m\"\u001b[39m,\n\u001b[1;32m   4422\u001b[0m                         keepdims\u001b[39m=\u001b[39m\u001b[39mFalse\u001b[39;00m):\n\u001b[1;32m   4423\u001b[0m \u001b[39m    \u001b[39m\u001b[39m\"\"\"Assumes that q is in [0, 1], and is an ndarray\"\"\"\u001b[39;00m\n\u001b[0;32m-> 4424\u001b[0m     r, k \u001b[39m=\u001b[39m _ureduce(a,\n\u001b[1;32m   4425\u001b[0m                     func\u001b[39m=\u001b[39;49m_quantile_ureduce_func,\n\u001b[1;32m   4426\u001b[0m                     q\u001b[39m=\u001b[39;49mq,\n\u001b[1;32m   4427\u001b[0m                     axis\u001b[39m=\u001b[39;49maxis,\n\u001b[1;32m   4428\u001b[0m                     out\u001b[39m=\u001b[39;49mout,\n\u001b[1;32m   4429\u001b[0m                     overwrite_input\u001b[39m=\u001b[39;49moverwrite_input,\n\u001b[1;32m   4430\u001b[0m                     method\u001b[39m=\u001b[39;49mmethod)\n\u001b[1;32m   4431\u001b[0m     \u001b[39mif\u001b[39;00m keepdims:\n\u001b[1;32m   4432\u001b[0m         \u001b[39mreturn\u001b[39;00m r\u001b[39m.\u001b[39mreshape(q\u001b[39m.\u001b[39mshape \u001b[39m+\u001b[39m k)\n",
      "File \u001b[0;32m~/.conda/envs/blinx/lib/python3.11/site-packages/numpy/lib/function_base.py:3725\u001b[0m, in \u001b[0;36m_ureduce\u001b[0;34m(a, func, **kwargs)\u001b[0m\n\u001b[1;32m   3722\u001b[0m \u001b[39melse\u001b[39;00m:\n\u001b[1;32m   3723\u001b[0m     keepdim \u001b[39m=\u001b[39m (\u001b[39m1\u001b[39m,) \u001b[39m*\u001b[39m a\u001b[39m.\u001b[39mndim\n\u001b[0;32m-> 3725\u001b[0m r \u001b[39m=\u001b[39m func(a, \u001b[39m*\u001b[39;49m\u001b[39m*\u001b[39;49mkwargs)\n\u001b[1;32m   3726\u001b[0m \u001b[39mreturn\u001b[39;00m r, keepdim\n",
      "File \u001b[0;32m~/.conda/envs/blinx/lib/python3.11/site-packages/numpy/lib/function_base.py:4593\u001b[0m, in \u001b[0;36m_quantile_ureduce_func\u001b[0;34m(a, q, axis, out, overwrite_input, method)\u001b[0m\n\u001b[1;32m   4591\u001b[0m     \u001b[39melse\u001b[39;00m:\n\u001b[1;32m   4592\u001b[0m         arr \u001b[39m=\u001b[39m a\u001b[39m.\u001b[39mcopy()\n\u001b[0;32m-> 4593\u001b[0m result \u001b[39m=\u001b[39m _quantile(arr,\n\u001b[1;32m   4594\u001b[0m                    quantiles\u001b[39m=\u001b[39;49mq,\n\u001b[1;32m   4595\u001b[0m                    axis\u001b[39m=\u001b[39;49maxis,\n\u001b[1;32m   4596\u001b[0m                    method\u001b[39m=\u001b[39;49mmethod,\n\u001b[1;32m   4597\u001b[0m                    out\u001b[39m=\u001b[39;49mout)\n\u001b[1;32m   4598\u001b[0m \u001b[39mreturn\u001b[39;00m result\n",
      "File \u001b[0;32m~/.conda/envs/blinx/lib/python3.11/site-packages/numpy/lib/function_base.py:4699\u001b[0m, in \u001b[0;36m_quantile\u001b[0;34m(arr, quantiles, axis, method, out)\u001b[0m\n\u001b[1;32m   4691\u001b[0m arr\u001b[39m.\u001b[39mpartition(\n\u001b[1;32m   4692\u001b[0m     np\u001b[39m.\u001b[39munique(np\u001b[39m.\u001b[39mconcatenate(([\u001b[39m0\u001b[39m, \u001b[39m-\u001b[39m\u001b[39m1\u001b[39m],\n\u001b[1;32m   4693\u001b[0m                               previous_indexes\u001b[39m.\u001b[39mravel(),\n\u001b[1;32m   4694\u001b[0m                               next_indexes\u001b[39m.\u001b[39mravel(),\n\u001b[1;32m   4695\u001b[0m                               ))),\n\u001b[1;32m   4696\u001b[0m     axis\u001b[39m=\u001b[39mDATA_AXIS)\n\u001b[1;32m   4697\u001b[0m \u001b[39mif\u001b[39;00m np\u001b[39m.\u001b[39missubdtype(arr\u001b[39m.\u001b[39mdtype, np\u001b[39m.\u001b[39minexact):\n\u001b[1;32m   4698\u001b[0m     slices_having_nans \u001b[39m=\u001b[39m np\u001b[39m.\u001b[39misnan(\n\u001b[0;32m-> 4699\u001b[0m         take(arr, indices\u001b[39m=\u001b[39;49m\u001b[39m-\u001b[39;49m\u001b[39m1\u001b[39;49m, axis\u001b[39m=\u001b[39;49mDATA_AXIS)\n\u001b[1;32m   4700\u001b[0m     )\n\u001b[1;32m   4701\u001b[0m \u001b[39melse\u001b[39;00m:\n\u001b[1;32m   4702\u001b[0m     slices_having_nans \u001b[39m=\u001b[39m \u001b[39mNone\u001b[39;00m\n",
      "File \u001b[0;32m<__array_function__ internals>:180\u001b[0m, in \u001b[0;36mtake\u001b[0;34m(*args, **kwargs)\u001b[0m\n",
      "File \u001b[0;32m~/.conda/envs/blinx/lib/python3.11/site-packages/numpy/core/fromnumeric.py:190\u001b[0m, in \u001b[0;36mtake\u001b[0;34m(a, indices, axis, out, mode)\u001b[0m\n\u001b[1;32m     93\u001b[0m \u001b[39m@array_function_dispatch\u001b[39m(_take_dispatcher)\n\u001b[1;32m     94\u001b[0m \u001b[39mdef\u001b[39;00m \u001b[39mtake\u001b[39m(a, indices, axis\u001b[39m=\u001b[39m\u001b[39mNone\u001b[39;00m, out\u001b[39m=\u001b[39m\u001b[39mNone\u001b[39;00m, mode\u001b[39m=\u001b[39m\u001b[39m'\u001b[39m\u001b[39mraise\u001b[39m\u001b[39m'\u001b[39m):\n\u001b[1;32m     95\u001b[0m \u001b[39m    \u001b[39m\u001b[39m\"\"\"\u001b[39;00m\n\u001b[1;32m     96\u001b[0m \u001b[39m    Take elements from an array along an axis.\u001b[39;00m\n\u001b[1;32m     97\u001b[0m \n\u001b[0;32m   (...)\u001b[0m\n\u001b[1;32m    188\u001b[0m \u001b[39m           [5, 7]])\u001b[39;00m\n\u001b[1;32m    189\u001b[0m \u001b[39m    \"\"\"\u001b[39;00m\n\u001b[0;32m--> 190\u001b[0m     \u001b[39mreturn\u001b[39;00m _wrapfunc(a, \u001b[39m'\u001b[39;49m\u001b[39mtake\u001b[39;49m\u001b[39m'\u001b[39;49m, indices, axis\u001b[39m=\u001b[39;49maxis, out\u001b[39m=\u001b[39;49mout, mode\u001b[39m=\u001b[39;49mmode)\n",
      "File \u001b[0;32m~/.conda/envs/blinx/lib/python3.11/site-packages/numpy/core/fromnumeric.py:57\u001b[0m, in \u001b[0;36m_wrapfunc\u001b[0;34m(obj, method, *args, **kwds)\u001b[0m\n\u001b[1;32m     54\u001b[0m     \u001b[39mreturn\u001b[39;00m _wrapit(obj, method, \u001b[39m*\u001b[39margs, \u001b[39m*\u001b[39m\u001b[39m*\u001b[39mkwds)\n\u001b[1;32m     56\u001b[0m \u001b[39mtry\u001b[39;00m:\n\u001b[0;32m---> 57\u001b[0m     \u001b[39mreturn\u001b[39;00m bound(\u001b[39m*\u001b[39;49margs, \u001b[39m*\u001b[39;49m\u001b[39m*\u001b[39;49mkwds)\n\u001b[1;32m     58\u001b[0m \u001b[39mexcept\u001b[39;00m \u001b[39mTypeError\u001b[39;00m:\n\u001b[1;32m     59\u001b[0m     \u001b[39m# A TypeError occurs if the object does have such a method in its\u001b[39;00m\n\u001b[1;32m     60\u001b[0m     \u001b[39m# class, but its signature is not identical to that of NumPy's. This\u001b[39;00m\n\u001b[0;32m   (...)\u001b[0m\n\u001b[1;32m     64\u001b[0m     \u001b[39m# Call _wrapit from within the except clause to ensure a potential\u001b[39;00m\n\u001b[1;32m     65\u001b[0m     \u001b[39m# exception has a traceback chain.\u001b[39;00m\n\u001b[1;32m     66\u001b[0m     \u001b[39mreturn\u001b[39;00m _wrapit(obj, method, \u001b[39m*\u001b[39margs, \u001b[39m*\u001b[39m\u001b[39m*\u001b[39mkwds)\n",
      "\u001b[0;31mIndexError\u001b[0m: cannot do a non-empty take from an empty axes."
     ]
    }
   ],
   "source": [
    "runMode = \"unif_vel_0_thresh\"\n",
    "percentileThresh = 0.99\n",
    "tsX, tsY = makeReplicationHistForRunMode(runMode, percentileThresh, \"ts\", winSize=10000)\n",
    "print(tsX, tsY)\n",
    "fetX, fetY = makeReplicationHistForRunMode(runMode, percentileThresh, \"fet\", winSize=10000)\n",
    "plotBars(tsX, tsY, fetX, fetY, \"Replication Comparison: 10 kb windows\")\n",
    "print(fetX, fetY)\n",
    "plt.savefig(\"S34_Replication_Hist.pdf\")"
   ]
  },
  {
   "cell_type": "code",
   "execution_count": 6,
   "id": "b408ea15-33ae-49f5-8bf7-e809da200fa0",
   "metadata": {},
   "outputs": [
    {
     "ename": "IndexError",
     "evalue": "cannot do a non-empty take from an empty axes.",
     "output_type": "error",
     "traceback": [
      "\u001b[0;31m---------------------------------------------------------------------------\u001b[0m",
      "\u001b[0;31mIndexError\u001b[0m                                Traceback (most recent call last)",
      "Cell \u001b[0;32mIn[6], line 3\u001b[0m\n\u001b[1;32m      1\u001b[0m runMode \u001b[39m=\u001b[39m \u001b[39m\"\u001b[39m\u001b[39munif_vel_0_thresh\u001b[39m\u001b[39m\"\u001b[39m\n\u001b[1;32m      2\u001b[0m percentileThresh \u001b[39m=\u001b[39m \u001b[39m0.99\u001b[39m\n\u001b[0;32m----> 3\u001b[0m tsX, tsY \u001b[39m=\u001b[39m makeReplicationHistForRunMode(runMode, percentileThresh, \u001b[39m\"\u001b[39;49m\u001b[39mts\u001b[39;49m\u001b[39m\"\u001b[39;49m, winSize\u001b[39m=\u001b[39;49m\u001b[39m100000\u001b[39;49m)\n\u001b[1;32m      4\u001b[0m fetX, fetY \u001b[39m=\u001b[39m makeReplicationHistForRunMode(runMode, percentileThresh, \u001b[39m\"\u001b[39m\u001b[39mfet\u001b[39m\u001b[39m\"\u001b[39m, winSize\u001b[39m=\u001b[39m\u001b[39m100000\u001b[39m)\n\u001b[1;32m      5\u001b[0m plotBars(tsX, tsY, fetX, fetY, \u001b[39m\"\u001b[39m\u001b[39mreplication comparison: 100 kb windows\u001b[39m\u001b[39m\"\u001b[39m)\n",
      "Cell \u001b[0;32mIn[3], line 15\u001b[0m, in \u001b[0;36mmakeReplicationHistForRunMode\u001b[0;34m(runMode, percentileThresh, tsOrFet, numReps, winSize)\u001b[0m\n\u001b[1;32m     13\u001b[0m         \u001b[39mfor\u001b[39;00m line \u001b[39min\u001b[39;00m cf:\n\u001b[1;32m     14\u001b[0m             scores\u001b[39m.\u001b[39mappend(\u001b[39mfloat\u001b[39m(line\u001b[39m.\u001b[39mstrip()\u001b[39m.\u001b[39msplit()[scoreIndex]))\n\u001b[0;32m---> 15\u001b[0m threshold \u001b[39m=\u001b[39m np\u001b[39m.\u001b[39;49mpercentile(scores, percentileThresh\u001b[39m*\u001b[39;49m\u001b[39m100\u001b[39;49m)\n\u001b[1;32m     16\u001b[0m sys\u001b[39m.\u001b[39mstderr\u001b[39m.\u001b[39mwrite(\u001b[39mf\u001b[39m\u001b[39m'\u001b[39m\u001b[39mchosen threshold for \u001b[39m\u001b[39m{\u001b[39;00mrunMode\u001b[39m}\u001b[39;00m\u001b[39m: (\u001b[39m\u001b[39m{\u001b[39;00mpercentileThresh\u001b[39m*\u001b[39m\u001b[39m100\u001b[39m\u001b[39m}\u001b[39;00m\u001b[39mth percentile): \u001b[39m\u001b[39m{\u001b[39;00mthreshold\u001b[39m}\u001b[39;00m\u001b[39m\\n\u001b[39;00m\u001b[39m'\u001b[39m)\n\u001b[1;32m     18\u001b[0m repCounts \u001b[39m=\u001b[39m {}\n",
      "File \u001b[0;32m<__array_function__ internals>:180\u001b[0m, in \u001b[0;36mpercentile\u001b[0;34m(*args, **kwargs)\u001b[0m\n",
      "File \u001b[0;32m~/.conda/envs/blinx/lib/python3.11/site-packages/numpy/lib/function_base.py:4166\u001b[0m, in \u001b[0;36mpercentile\u001b[0;34m(a, q, axis, out, overwrite_input, method, keepdims, interpolation)\u001b[0m\n\u001b[1;32m   4164\u001b[0m \u001b[39mif\u001b[39;00m \u001b[39mnot\u001b[39;00m _quantile_is_valid(q):\n\u001b[1;32m   4165\u001b[0m     \u001b[39mraise\u001b[39;00m \u001b[39mValueError\u001b[39;00m(\u001b[39m\"\u001b[39m\u001b[39mPercentiles must be in the range [0, 100]\u001b[39m\u001b[39m\"\u001b[39m)\n\u001b[0;32m-> 4166\u001b[0m \u001b[39mreturn\u001b[39;00m _quantile_unchecked(\n\u001b[1;32m   4167\u001b[0m     a, q, axis, out, overwrite_input, method, keepdims)\n",
      "File \u001b[0;32m~/.conda/envs/blinx/lib/python3.11/site-packages/numpy/lib/function_base.py:4424\u001b[0m, in \u001b[0;36m_quantile_unchecked\u001b[0;34m(a, q, axis, out, overwrite_input, method, keepdims)\u001b[0m\n\u001b[1;32m   4416\u001b[0m \u001b[39mdef\u001b[39;00m \u001b[39m_quantile_unchecked\u001b[39m(a,\n\u001b[1;32m   4417\u001b[0m                         q,\n\u001b[1;32m   4418\u001b[0m                         axis\u001b[39m=\u001b[39m\u001b[39mNone\u001b[39;00m,\n\u001b[0;32m   (...)\u001b[0m\n\u001b[1;32m   4421\u001b[0m                         method\u001b[39m=\u001b[39m\u001b[39m\"\u001b[39m\u001b[39mlinear\u001b[39m\u001b[39m\"\u001b[39m,\n\u001b[1;32m   4422\u001b[0m                         keepdims\u001b[39m=\u001b[39m\u001b[39mFalse\u001b[39;00m):\n\u001b[1;32m   4423\u001b[0m \u001b[39m    \u001b[39m\u001b[39m\"\"\"Assumes that q is in [0, 1], and is an ndarray\"\"\"\u001b[39;00m\n\u001b[0;32m-> 4424\u001b[0m     r, k \u001b[39m=\u001b[39m _ureduce(a,\n\u001b[1;32m   4425\u001b[0m                     func\u001b[39m=\u001b[39;49m_quantile_ureduce_func,\n\u001b[1;32m   4426\u001b[0m                     q\u001b[39m=\u001b[39;49mq,\n\u001b[1;32m   4427\u001b[0m                     axis\u001b[39m=\u001b[39;49maxis,\n\u001b[1;32m   4428\u001b[0m                     out\u001b[39m=\u001b[39;49mout,\n\u001b[1;32m   4429\u001b[0m                     overwrite_input\u001b[39m=\u001b[39;49moverwrite_input,\n\u001b[1;32m   4430\u001b[0m                     method\u001b[39m=\u001b[39;49mmethod)\n\u001b[1;32m   4431\u001b[0m     \u001b[39mif\u001b[39;00m keepdims:\n\u001b[1;32m   4432\u001b[0m         \u001b[39mreturn\u001b[39;00m r\u001b[39m.\u001b[39mreshape(q\u001b[39m.\u001b[39mshape \u001b[39m+\u001b[39m k)\n",
      "File \u001b[0;32m~/.conda/envs/blinx/lib/python3.11/site-packages/numpy/lib/function_base.py:3725\u001b[0m, in \u001b[0;36m_ureduce\u001b[0;34m(a, func, **kwargs)\u001b[0m\n\u001b[1;32m   3722\u001b[0m \u001b[39melse\u001b[39;00m:\n\u001b[1;32m   3723\u001b[0m     keepdim \u001b[39m=\u001b[39m (\u001b[39m1\u001b[39m,) \u001b[39m*\u001b[39m a\u001b[39m.\u001b[39mndim\n\u001b[0;32m-> 3725\u001b[0m r \u001b[39m=\u001b[39m func(a, \u001b[39m*\u001b[39;49m\u001b[39m*\u001b[39;49mkwargs)\n\u001b[1;32m   3726\u001b[0m \u001b[39mreturn\u001b[39;00m r, keepdim\n",
      "File \u001b[0;32m~/.conda/envs/blinx/lib/python3.11/site-packages/numpy/lib/function_base.py:4593\u001b[0m, in \u001b[0;36m_quantile_ureduce_func\u001b[0;34m(a, q, axis, out, overwrite_input, method)\u001b[0m\n\u001b[1;32m   4591\u001b[0m     \u001b[39melse\u001b[39;00m:\n\u001b[1;32m   4592\u001b[0m         arr \u001b[39m=\u001b[39m a\u001b[39m.\u001b[39mcopy()\n\u001b[0;32m-> 4593\u001b[0m result \u001b[39m=\u001b[39m _quantile(arr,\n\u001b[1;32m   4594\u001b[0m                    quantiles\u001b[39m=\u001b[39;49mq,\n\u001b[1;32m   4595\u001b[0m                    axis\u001b[39m=\u001b[39;49maxis,\n\u001b[1;32m   4596\u001b[0m                    method\u001b[39m=\u001b[39;49mmethod,\n\u001b[1;32m   4597\u001b[0m                    out\u001b[39m=\u001b[39;49mout)\n\u001b[1;32m   4598\u001b[0m \u001b[39mreturn\u001b[39;00m result\n",
      "File \u001b[0;32m~/.conda/envs/blinx/lib/python3.11/site-packages/numpy/lib/function_base.py:4699\u001b[0m, in \u001b[0;36m_quantile\u001b[0;34m(arr, quantiles, axis, method, out)\u001b[0m\n\u001b[1;32m   4691\u001b[0m arr\u001b[39m.\u001b[39mpartition(\n\u001b[1;32m   4692\u001b[0m     np\u001b[39m.\u001b[39munique(np\u001b[39m.\u001b[39mconcatenate(([\u001b[39m0\u001b[39m, \u001b[39m-\u001b[39m\u001b[39m1\u001b[39m],\n\u001b[1;32m   4693\u001b[0m                               previous_indexes\u001b[39m.\u001b[39mravel(),\n\u001b[1;32m   4694\u001b[0m                               next_indexes\u001b[39m.\u001b[39mravel(),\n\u001b[1;32m   4695\u001b[0m                               ))),\n\u001b[1;32m   4696\u001b[0m     axis\u001b[39m=\u001b[39mDATA_AXIS)\n\u001b[1;32m   4697\u001b[0m \u001b[39mif\u001b[39;00m np\u001b[39m.\u001b[39missubdtype(arr\u001b[39m.\u001b[39mdtype, np\u001b[39m.\u001b[39minexact):\n\u001b[1;32m   4698\u001b[0m     slices_having_nans \u001b[39m=\u001b[39m np\u001b[39m.\u001b[39misnan(\n\u001b[0;32m-> 4699\u001b[0m         take(arr, indices\u001b[39m=\u001b[39;49m\u001b[39m-\u001b[39;49m\u001b[39m1\u001b[39;49m, axis\u001b[39m=\u001b[39;49mDATA_AXIS)\n\u001b[1;32m   4700\u001b[0m     )\n\u001b[1;32m   4701\u001b[0m \u001b[39melse\u001b[39;00m:\n\u001b[1;32m   4702\u001b[0m     slices_having_nans \u001b[39m=\u001b[39m \u001b[39mNone\u001b[39;00m\n",
      "File \u001b[0;32m<__array_function__ internals>:180\u001b[0m, in \u001b[0;36mtake\u001b[0;34m(*args, **kwargs)\u001b[0m\n",
      "File \u001b[0;32m~/.conda/envs/blinx/lib/python3.11/site-packages/numpy/core/fromnumeric.py:190\u001b[0m, in \u001b[0;36mtake\u001b[0;34m(a, indices, axis, out, mode)\u001b[0m\n\u001b[1;32m     93\u001b[0m \u001b[39m@array_function_dispatch\u001b[39m(_take_dispatcher)\n\u001b[1;32m     94\u001b[0m \u001b[39mdef\u001b[39;00m \u001b[39mtake\u001b[39m(a, indices, axis\u001b[39m=\u001b[39m\u001b[39mNone\u001b[39;00m, out\u001b[39m=\u001b[39m\u001b[39mNone\u001b[39;00m, mode\u001b[39m=\u001b[39m\u001b[39m'\u001b[39m\u001b[39mraise\u001b[39m\u001b[39m'\u001b[39m):\n\u001b[1;32m     95\u001b[0m \u001b[39m    \u001b[39m\u001b[39m\"\"\"\u001b[39;00m\n\u001b[1;32m     96\u001b[0m \u001b[39m    Take elements from an array along an axis.\u001b[39;00m\n\u001b[1;32m     97\u001b[0m \n\u001b[0;32m   (...)\u001b[0m\n\u001b[1;32m    188\u001b[0m \u001b[39m           [5, 7]])\u001b[39;00m\n\u001b[1;32m    189\u001b[0m \u001b[39m    \"\"\"\u001b[39;00m\n\u001b[0;32m--> 190\u001b[0m     \u001b[39mreturn\u001b[39;00m _wrapfunc(a, \u001b[39m'\u001b[39;49m\u001b[39mtake\u001b[39;49m\u001b[39m'\u001b[39;49m, indices, axis\u001b[39m=\u001b[39;49maxis, out\u001b[39m=\u001b[39;49mout, mode\u001b[39m=\u001b[39;49mmode)\n",
      "File \u001b[0;32m~/.conda/envs/blinx/lib/python3.11/site-packages/numpy/core/fromnumeric.py:57\u001b[0m, in \u001b[0;36m_wrapfunc\u001b[0;34m(obj, method, *args, **kwds)\u001b[0m\n\u001b[1;32m     54\u001b[0m     \u001b[39mreturn\u001b[39;00m _wrapit(obj, method, \u001b[39m*\u001b[39margs, \u001b[39m*\u001b[39m\u001b[39m*\u001b[39mkwds)\n\u001b[1;32m     56\u001b[0m \u001b[39mtry\u001b[39;00m:\n\u001b[0;32m---> 57\u001b[0m     \u001b[39mreturn\u001b[39;00m bound(\u001b[39m*\u001b[39;49margs, \u001b[39m*\u001b[39;49m\u001b[39m*\u001b[39;49mkwds)\n\u001b[1;32m     58\u001b[0m \u001b[39mexcept\u001b[39;00m \u001b[39mTypeError\u001b[39;00m:\n\u001b[1;32m     59\u001b[0m     \u001b[39m# A TypeError occurs if the object does have such a method in its\u001b[39;00m\n\u001b[1;32m     60\u001b[0m     \u001b[39m# class, but its signature is not identical to that of NumPy's. This\u001b[39;00m\n\u001b[0;32m   (...)\u001b[0m\n\u001b[1;32m     64\u001b[0m     \u001b[39m# Call _wrapit from within the except clause to ensure a potential\u001b[39;00m\n\u001b[1;32m     65\u001b[0m     \u001b[39m# exception has a traceback chain.\u001b[39;00m\n\u001b[1;32m     66\u001b[0m     \u001b[39mreturn\u001b[39;00m _wrapit(obj, method, \u001b[39m*\u001b[39margs, \u001b[39m*\u001b[39m\u001b[39m*\u001b[39mkwds)\n",
      "\u001b[0;31mIndexError\u001b[0m: cannot do a non-empty take from an empty axes."
     ]
    }
   ],
   "source": [
    "runMode = \"unif_vel_0_thresh\"\n",
    "percentileThresh = 0.99\n",
    "tsX, tsY = makeReplicationHistForRunMode(runMode, percentileThresh, \"ts\", winSize=100000)\n",
    "fetX, fetY = makeReplicationHistForRunMode(runMode, percentileThresh, \"fet\", winSize=100000)\n",
    "plotBars(tsX, tsY, fetX, fetY, \"replication comparison: 100 kb windows\")"
   ]
  },
  {
   "cell_type": "code",
   "execution_count": null,
   "id": "78a337b2-d368-4417-86be-46f622e50031",
   "metadata": {},
   "outputs": [],
   "source": []
  }
 ],
 "metadata": {
  "kernelspec": {
   "display_name": "Python 3 (ipykernel)",
   "language": "python",
   "name": "python3"
  },
  "language_info": {
   "codemirror_mode": {
    "name": "ipython",
    "version": 3
   },
   "file_extension": ".py",
   "mimetype": "text/x-python",
   "name": "python",
   "nbconvert_exporter": "python",
   "pygments_lexer": "ipython3",
   "version": "3.11.0"
  }
 },
 "nbformat": 4,
 "nbformat_minor": 5
}
