{
 "cells": [
  {
   "cell_type": "code",
   "execution_count": 1,
   "metadata": {},
   "outputs": [],
   "source": [
    "import pandas as pd\n",
    "import numpy as np\n",
    "import itertools\n",
    "from sklearn.metrics import r2_score, classification_report, roc_curve, auc, confusion_matrix, precision_recall_curve, mean_absolute_error\n",
    "from sklearn.preprocessing import label_binarize\n",
    "\n",
    "import matplotlib\n",
    "import matplotlib.pyplot as plt\n",
    "%matplotlib inline"
   ]
  },
  {
   "cell_type": "code",
   "execution_count": 2,
   "metadata": {},
   "outputs": [],
   "source": [
    "\n",
    "def plot_confusion_matrix(\n",
    "    working_dir, cm, target_names, title=\"Confusion matrix\", cmap=None, normalize=False\n",
    "):\n",
    "    accuracy = np.trace(cm) / float(np.sum(cm))\n",
    "    misclass = 1 - accuracy\n",
    "\n",
    "    if cmap is None:\n",
    "        cmap = plt.get_cmap(\"Blues\")\n",
    "\n",
    "    plt.figure(figsize=(9, 8))\n",
    "    plt.imshow(cm, interpolation=\"nearest\", cmap=cmap)\n",
    "    plt.title(title)\n",
    "    plt.colorbar()\n",
    "\n",
    "    if target_names is not None:\n",
    "        tick_marks = np.arange(len(target_names))\n",
    "        plt.xticks(tick_marks, target_names, rotation=45)\n",
    "        plt.yticks(tick_marks, target_names)\n",
    "\n",
    "    if normalize:\n",
    "        cm = cm.astype(\"float\") / cm.sum(axis=1)[:, np.newaxis]\n",
    "\n",
    "    thresh = cm.max() / 1.5 if normalize else cm.max() / 2\n",
    "    for i, j in itertools.product(range(cm.shape[0]), range(cm.shape[1])):\n",
    "        if normalize:\n",
    "            plt.text(\n",
    "                j,\n",
    "                i,\n",
    "                f\"{cm[i, j]:0.4f}\",\n",
    "                horizontalalignment=\"center\",\n",
    "                color=\"black\",\n",
    "                # color=\"white\" if cm[i, j] > thresh else \"black\",\n",
    "            )\n",
    "        else:\n",
    "            plt.text(\n",
    "                j,\n",
    "                i,\n",
    "                f\"{cm[i, j]:,}\",\n",
    "                horizontalalignment=\"center\",\n",
    "                color=\"black\",\n",
    "                # color=\"white\" if cm[i, j] > thresh else \"black\",\n",
    "            )\n",
    "\n",
    "    plt.ylabel(\"True label\")\n",
    "    plt.xlabel(f\"Predicted label\\naccuracy={accuracy:0.4f}; misclass={misclass:0.4f}\")\n",
    "\n",
    "    #plt.savefig(os.path.join(working_dir, title + \".pdf\"))\n",
    "    #plt.savefig(os.path.join(working_dir, title + \".png\"))\n",
    "    #plt.clf()\n",
    "\n",
    "\n",
    "def print_classification_report(y_true, y_pred):\n",
    "    \"\"\"\n",
    "    Prints classification report to stdout.\n",
    "\n",
    "    Args:\n",
    "        y_true (nparray): 1D npy array containing int values for class\n",
    "        y_pred (nparray): 1D npy array containing int values for predicted class\n",
    "        train_gen (Keras Generator): Training generator used for model training, used for labels\n",
    "    \"\"\"\n",
    "    print(\"Classification Report\")\n",
    "    print(classification_report(y_true, y_pred))\n",
    "\n"
   ]
  },
  {
   "cell_type": "code",
   "execution_count": 3,
   "metadata": {},
   "outputs": [
    {
     "data": {
      "text/html": [
       "<div>\n",
       "<style scoped>\n",
       "    .dataframe tbody tr th:only-of-type {\n",
       "        vertical-align: middle;\n",
       "    }\n",
       "\n",
       "    .dataframe tbody tr th {\n",
       "        vertical-align: top;\n",
       "    }\n",
       "\n",
       "    .dataframe thead th {\n",
       "        text-align: right;\n",
       "    }\n",
       "</style>\n",
       "<table border=\"1\" class=\"dataframe\">\n",
       "  <thead>\n",
       "    <tr style=\"text-align: right;\">\n",
       "      <th></th>\n",
       "      <th>rep</th>\n",
       "      <th>sweep</th>\n",
       "      <th>pos</th>\n",
       "      <th>clr</th>\n",
       "      <th>pred</th>\n",
       "    </tr>\n",
       "  </thead>\n",
       "  <tbody>\n",
       "    <tr>\n",
       "      <th>0</th>\n",
       "      <td>0</td>\n",
       "      <td>neut</td>\n",
       "      <td>2.502531e+06</td>\n",
       "      <td>0.395412</td>\n",
       "      <td>neut</td>\n",
       "    </tr>\n",
       "    <tr>\n",
       "      <th>1</th>\n",
       "      <td>1</td>\n",
       "      <td>neut</td>\n",
       "      <td>2.502796e+06</td>\n",
       "      <td>0.425277</td>\n",
       "      <td>neut</td>\n",
       "    </tr>\n",
       "    <tr>\n",
       "      <th>2</th>\n",
       "      <td>10</td>\n",
       "      <td>neut</td>\n",
       "      <td>2.502128e+06</td>\n",
       "      <td>0.942135</td>\n",
       "      <td>neut</td>\n",
       "    </tr>\n",
       "    <tr>\n",
       "      <th>3</th>\n",
       "      <td>100</td>\n",
       "      <td>neut</td>\n",
       "      <td>2.501515e+06</td>\n",
       "      <td>1.233948</td>\n",
       "      <td>neut</td>\n",
       "    </tr>\n",
       "    <tr>\n",
       "      <th>4</th>\n",
       "      <td>1000</td>\n",
       "      <td>neut</td>\n",
       "      <td>2.502209e+06</td>\n",
       "      <td>0.137618</td>\n",
       "      <td>neut</td>\n",
       "    </tr>\n",
       "  </tbody>\n",
       "</table>\n",
       "</div>"
      ],
      "text/plain": [
       "    rep sweep           pos       clr  pred\n",
       "0     0  neut  2.502531e+06  0.395412  neut\n",
       "1     1  neut  2.502796e+06  0.425277  neut\n",
       "2    10  neut  2.502128e+06  0.942135  neut\n",
       "3   100  neut  2.501515e+06  1.233948  neut\n",
       "4  1000  neut  2.502209e+06  0.137618  neut"
      ]
     },
     "execution_count": 3,
     "metadata": {},
     "output_type": "execute_result"
    }
   ],
   "source": [
    "df = pd.read_csv(\"sf_res.csv\")\n",
    "df.loc[df[\"sweep\"] != \"neut\", \"sweep\"] = \"sweep\"\n",
    "df.head()\n"
   ]
  },
  {
   "cell_type": "code",
   "execution_count": 4,
   "metadata": {},
   "outputs": [
    {
     "name": "stdout",
     "output_type": "stream",
     "text": [
      "Classification Report\n",
      "              precision    recall  f1-score   support\n",
      "\n",
      "        neut       0.36      0.95      0.52      5001\n",
      "       sweep       0.85      0.15      0.25     10001\n",
      "\n",
      "    accuracy                           0.42     15002\n",
      "   macro avg       0.60      0.55      0.39     15002\n",
      "weighted avg       0.69      0.42      0.34     15002\n",
      "\n"
     ]
    },
    {
     "data": {
      "image/png": "[encoded data removed]",
      "text/plain": [
       "<Figure size 648x576 with 2 Axes>"
      ]
     },
     "metadata": {
      "needs_background": "light"
     },
     "output_type": "display_data"
    }
   ],
   "source": [
    "print_classification_report(df[\"sweep\"], df[\"pred\"])\n",
    "plot_confusion_matrix('.', confusion_matrix(df[\"sweep\"], df[\"pred\"]), [\"Neutral\", \"Sweep\"])\n"
   ]
  },
  {
   "cell_type": "code",
   "execution_count": 5,
   "metadata": {},
   "outputs": [
    {
     "data": {
      "image/png": "[encoded data removed]",
      "text/plain": [
       "<Figure size 432x288 with 1 Axes>"
      ]
     },
     "metadata": {
      "needs_background": "light"
     },
     "output_type": "display_data"
    }
   ],
   "source": [
    "\"\"\"Plot ROC curve by binarizing neutral/sweep.\"\"\"\n",
    "\n",
    "# Plot sdn/ssv distinction\n",
    "swp_fpr, swp_tpr, thresh = roc_curve(df[\"sweep\"], df[\"clr\"], pos_label=\"sweep\")\n",
    "swp_auc_val = auc(swp_fpr, swp_tpr)\n",
    "plt.plot(\n",
    "    swp_fpr,\n",
    "    swp_tpr,\n",
    "    label=f\"Sweepfinder CLR: {swp_auc_val:.4}\",\n",
    ")\n",
    "\n",
    "plt.title(f\"ROC Curve Sweepfinder CLR\")\n",
    "plt.xlabel(\"FPR\")\n",
    "plt.ylabel(\"TPR\")\n",
    "plt.legend()\n",
    "\n",
    "plt.show()"
   ]
  },
  {
   "cell_type": "code",
   "execution_count": 6,
   "metadata": {},
   "outputs": [
    {
     "data": {
      "text/plain": [
       "Text(0, 0.5, 'Precision')"
      ]
     },
     "execution_count": 6,
     "metadata": {},
     "output_type": "execute_result"
    },
    {
     "data": {
      "image/png": "[encoded data removed]",
      "text/plain": [
       "<Figure size 432x288 with 1 Axes>"
      ]
     },
     "metadata": {
      "needs_background": "light"
     },
     "output_type": "display_data"
    }
   ],
   "source": [
    "\"\"\"Plot PR curve by binarizing neutral/sweep.\"\"\"\n",
    "\n",
    "# Plot PR Curve for binarized labs\n",
    "prec, rec, thresh = precision_recall_curve(df[\"sweep\"], df[\"clr\"], pos_label=\"sweep\")\n",
    "auc_val = auc(rec, prec)\n",
    "plt.plot(rec, prec, label=f\"Sweepfinder CLR AUC: {auc_val:.2}\")\n",
    "\n",
    "plt.title(f\"PR Curve Sweepfinder CLR\")\n",
    "plt.legend()\n",
    "plt.xlabel(\"Recall\")\n",
    "plt.ylabel(\"Precision\")"
   ]
  },
  {
   "cell_type": "code",
   "execution_count": 7,
   "metadata": {},
   "outputs": [
    {
     "data": {
      "text/html": [
       "<div>\n",
       "<style scoped>\n",
       "    .dataframe tbody tr th:only-of-type {\n",
       "        vertical-align: middle;\n",
       "    }\n",
       "\n",
       "    .dataframe tbody tr th {\n",
       "        vertical-align: top;\n",
       "    }\n",
       "\n",
       "    .dataframe thead th {\n",
       "        text-align: right;\n",
       "    }\n",
       "</style>\n",
       "<table border=\"1\" class=\"dataframe\">\n",
       "  <thead>\n",
       "    <tr style=\"text-align: right;\">\n",
       "      <th></th>\n",
       "      <th>rep</th>\n",
       "      <th>pos</th>\n",
       "      <th>clr</th>\n",
       "    </tr>\n",
       "  </thead>\n",
       "  <tbody>\n",
       "    <tr>\n",
       "      <th>count</th>\n",
       "      <td>0.0</td>\n",
       "      <td>0.0</td>\n",
       "      <td>0.0</td>\n",
       "    </tr>\n",
       "    <tr>\n",
       "      <th>mean</th>\n",
       "      <td>NaN</td>\n",
       "      <td>NaN</td>\n",
       "      <td>NaN</td>\n",
       "    </tr>\n",
       "    <tr>\n",
       "      <th>std</th>\n",
       "      <td>NaN</td>\n",
       "      <td>NaN</td>\n",
       "      <td>NaN</td>\n",
       "    </tr>\n",
       "    <tr>\n",
       "      <th>min</th>\n",
       "      <td>NaN</td>\n",
       "      <td>NaN</td>\n",
       "      <td>NaN</td>\n",
       "    </tr>\n",
       "    <tr>\n",
       "      <th>25%</th>\n",
       "      <td>NaN</td>\n",
       "      <td>NaN</td>\n",
       "      <td>NaN</td>\n",
       "    </tr>\n",
       "    <tr>\n",
       "      <th>50%</th>\n",
       "      <td>NaN</td>\n",
       "      <td>NaN</td>\n",
       "      <td>NaN</td>\n",
       "    </tr>\n",
       "    <tr>\n",
       "      <th>75%</th>\n",
       "      <td>NaN</td>\n",
       "      <td>NaN</td>\n",
       "      <td>NaN</td>\n",
       "    </tr>\n",
       "    <tr>\n",
       "      <th>max</th>\n",
       "      <td>NaN</td>\n",
       "      <td>NaN</td>\n",
       "      <td>NaN</td>\n",
       "    </tr>\n",
       "  </tbody>\n",
       "</table>\n",
       "</div>"
      ],
      "text/plain": [
       "       rep  pos  clr\n",
       "count  0.0  0.0  0.0\n",
       "mean   NaN  NaN  NaN\n",
       "std    NaN  NaN  NaN\n",
       "min    NaN  NaN  NaN\n",
       "25%    NaN  NaN  NaN\n",
       "50%    NaN  NaN  NaN\n",
       "75%    NaN  NaN  NaN\n",
       "max    NaN  NaN  NaN"
      ]
     },
     "execution_count": 7,
     "metadata": {},
     "output_type": "execute_result"
    }
   ],
   "source": [
    "df[df[\"sweep\"] == \"ssv\"].describe()"
   ]
  }
 ],
 "metadata": {
  "kernelspec": {
   "display_name": "Python 3",
   "language": "python",
   "name": "python3"
  },
  "language_info": {
   "codemirror_mode": {
    "name": "ipython",
    "version": 3
   },
   "file_extension": ".py",
   "mimetype": "text/x-python",
   "name": "python",
   "nbconvert_exporter": "python",
   "pygments_lexer": "ipython3",
   "version": "3.9.7"
  },
  "orig_nbformat": 4,
  "vscode": {
   "interpreter": {
    "hash": "0734978750b2576bfa2f5e113bafc0e09c75ef5d2cefe7134ec1f1d23fc93b95"
   }
  }
 },
 "nbformat": 4,
 "nbformat_minor": 2
}
